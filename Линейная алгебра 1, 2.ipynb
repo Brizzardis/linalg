{
 "cells": [
  {
   "cell_type": "markdown",
   "metadata": {},
   "source": [
    "### 1 Исследовать на линейную зависимость"
   ]
  },
  {
   "cell_type": "code",
   "execution_count": null,
   "metadata": {},
   "outputs": [],
   "source": [
    "f1(x)=e^x,f2(x)=1,f3(x)=x+1,f4(x)=x−e^x\n",
    "f1, f2, f3, f4 линейно зависимы, т.к. можно выразить: \n",
    "f4 = f3 - f1 - f2"
   ]
  },
  {
   "cell_type": "markdown",
   "metadata": {},
   "source": [
    "### 2 Исследовать на линейную зависимость"
   ]
  },
  {
   "cell_type": "code",
   "execution_count": null,
   "metadata": {},
   "outputs": [],
   "source": [
    "f1(x)=2,f2(x)=x,f3(x)=x^2,f4(x)=(x+1)^2\n",
    "f1, f2, f3, f4 линейно зависимы, т.к. можно найти значения лямбда, отличные от 0: \n",
    "(-0.5)f1 + (-2)f2 + (-1)f3 + (1)f4 = 0"
   ]
  },
  {
   "cell_type": "markdown",
   "metadata": {},
   "source": [
    "### 3 Найти координаты вектора  x=(2,3,5)∈R^3  в базисе  b1=(0,0,10) ,  b2=(2,0,0) ,  b3=(0,1,0)"
   ]
  },
  {
   "cell_type": "code",
   "execution_count": null,
   "metadata": {},
   "outputs": [],
   "source": [
    "x = b2 + 3b3 + 0.5b1"
   ]
  },
  {
   "cell_type": "markdown",
   "metadata": {},
   "source": [
    "### 4. Найти координаты вектора  3x^2−2x+2 ∈ R^3[x] :\n",
    "а) в базисе  1 ,  x ,  x^2\n",
    "\n",
    "б) в базисе  x^2 ,  x−1 ,  1"
   ]
  },
  {
   "cell_type": "code",
   "execution_count": null,
   "metadata": {},
   "outputs": [],
   "source": [
    "а) 2*1 + (-2x) + 3x^2\n",
    "б) 3x^2 + (-2(x-1)) + 0*1"
   ]
  },
  {
   "cell_type": "markdown",
   "metadata": {},
   "source": [
    "### 5. Установить, является ли линейным подпространством:\n",
    "\n",
    "а) совокупность всех векторов трехмерного пространства, у которых по крайней мере одна из первых двух координат равна нулю;\n",
    "\n",
    "б) все векторы, являющиеся линейными комбинациями данных векторов  {u1,u2,...,un}"
   ]
  },
  {
   "cell_type": "code",
   "execution_count": null,
   "metadata": {},
   "outputs": [],
   "source": [
    "а) Подпространством любого линейного пространства будет:\n",
    "    множество, состоящее из одного нулевого элемента.\n",
    "    (0,a,b)+(0,c,d)=(0,a+c,b+d), \n",
    "    α⋅(0,a,b)=(0,αa,αb), следовательно, является линеным подпространством.\n",
    "\n",
    "б) при u != 0 не является линейным подпространством"
   ]
  },
  {
   "cell_type": "markdown",
   "metadata": {},
   "source": [
    "### 1. Найти скалярное произведение векторов  x,y ∈ R :\n",
    "а)  x=(0,−3,6), y=(−4,7,9)\n",
    "\n",
    "б)  x=(7,−4,0,1), y=(−3,1,11,2)"
   ]
  },
  {
   "cell_type": "code",
   "execution_count": 14,
   "metadata": {},
   "outputs": [
    {
     "name": "stdout",
     "output_type": "stream",
     "text": [
      "Скалярное произведение a:\n",
      "33\n",
      "Скалярное произведение б:\n",
      "-23.88\n"
     ]
    }
   ],
   "source": [
    "import numpy as np\n",
    "\n",
    "a = np.array([0, -3, 6])\n",
    "b = np.array([-4, 7, 9])\n",
    "print(f'Скалярное произведение a:\\n{np.dot(a, b)}')\n",
    "\n",
    "a = np.array([7, -4, 0.1])\n",
    "b = np.array([-3, 1, 11.2])\n",
    "print(f'Скалярное произведение б:\\n{np.dot(a, b)}')"
   ]
  },
  {
   "cell_type": "markdown",
   "metadata": {},
   "source": [
    "### 2. Найти нормы векторов  (4,2,4)  и  (12,3,4)  и угол между ними"
   ]
  },
  {
   "cell_type": "code",
   "execution_count": 16,
   "metadata": {},
   "outputs": [
    {
     "name": "stdout",
     "output_type": "stream",
     "text": [
      "l2 норма вектора a:\n",
      "6.0\n",
      "l2 норма вектора b:\n",
      "13.0\n",
      "Косинус угла между a и b: 0.90\n",
      "Угол между a и b: 0.46\n"
     ]
    }
   ],
   "source": [
    "from numpy.linalg import norm\n",
    "\n",
    "a = np.array([4, 2, 4])\n",
    "b = np.array([12, 3, 4])\n",
    "\n",
    "print(f'l2 норма вектора a:\\n{norm(a, ord=2)}')\n",
    "print(f'l2 норма вектора b:\\n{norm(b, ord=2)}')\n",
    "\n",
    "cos_phi = np.dot(a, b) / norm(a) / norm(b)\n",
    "print(f'Косинус угла между a и b: {cos_phi:.2f}')\n",
    "print(f'Угол между a и b: {np.arccos(cos_phi):.2f}')"
   ]
  },
  {
   "cell_type": "markdown",
   "metadata": {},
   "source": [
    "### 4. Какие из нижеперечисленных векторов образуют ортонормированный базис в линейном пространстве  R3 :\n",
    "а)  (1,0,0),(0,0,1)\n",
    "\n",
    "б)  (1/2–√,−1/2–√,0),(1/2–√,1/2–√,0),(0,0,1)\n",
    "\n",
    "в)  (1/2,−1/2,0),(0,1/2,1/2),(0,0,1)\n",
    "\n",
    "г)  (1,0,0),(0,1,0),(0,0,1)"
   ]
  },
  {
   "cell_type": "code",
   "execution_count": null,
   "metadata": {},
   "outputs": [],
   "source": [
    "вектор Г образует ортонормированный базис в линейном пространстве R3"
   ]
  }
 ],
 "metadata": {
  "kernelspec": {
   "display_name": "Python 3",
   "language": "python",
   "name": "python3"
  },
  "language_info": {
   "codemirror_mode": {
    "name": "ipython",
    "version": 3
   },
   "file_extension": ".py",
   "mimetype": "text/x-python",
   "name": "python",
   "nbconvert_exporter": "python",
   "pygments_lexer": "ipython3",
   "version": "3.7.3"
  }
 },
 "nbformat": 4,
 "nbformat_minor": 2
}
