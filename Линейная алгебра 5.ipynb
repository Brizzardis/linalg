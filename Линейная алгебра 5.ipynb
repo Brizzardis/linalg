{
 "cells": [
  {
   "cell_type": "markdown",
   "metadata": {},
   "source": [
    "### 1. Найти собственные векторы и собственные значения для линейного оператора, заданного матрицей"
   ]
  },
  {
   "cell_type": "code",
   "execution_count": 3,
   "metadata": {},
   "outputs": [],
   "source": [
    "import numpy as np\n",
    "\n",
    "A = np.array([\n",
    "    [-1, -6],\n",
    "    [ 2,  6]\n",
    "])"
   ]
  },
  {
   "cell_type": "code",
   "execution_count": null,
   "metadata": {},
   "outputs": [],
   "source": [
    "собственные значения линейного оператора:\n",
    "[[-1-l,  -6],\n",
    " [   2, 6-l]] = 0\n",
    "    \n",
    "(-1-l)(6-l)-(-12) = 0\n",
    "-6-5l+l**2+12=0\n",
    "l**2 - 5l + 6 = 0\n",
    "D = 25 - 24 = 1\n",
    "l = (5 +- 1)/2\n",
    "l1 = 3\n",
    "l2 = 2"
   ]
  },
  {
   "cell_type": "code",
   "execution_count": null,
   "metadata": {},
   "outputs": [],
   "source": [
    "собственные векторы:\n",
    "[[-1, -6],  (x1)  = l (x1)\n",
    " [ 2,  6]]  (x2)      (x2)\n",
    "\n",
    "1) l=3\n",
    "\n",
    "-x1 -6x2 = 3x1\n",
    "2x1 +6x2 = 3x2\n",
    "\n",
    "4x1 = -6x2\n",
    "2x1 = -3x2\n",
    "\n",
    "x1 = -1.5x2\n",
    "x1 = -1.5x2\n",
    "\n",
    "x1 может быть любой, x2 будет в -1.5 раза меньше x1\n",
    "\n",
    "2) l = 2\n",
    "\n",
    "-x1 -6x2 = 2x1\n",
    "2x1 +6x2 = 2x2\n",
    "\n",
    "3x1 = -6x2\n",
    "2x1 = -4x2\n",
    "\n",
    "x1 = -2x2\n",
    "x1 = -2x2\n",
    "\n",
    "x1 может быть любой, x2 будет в -2 раза меньше x1"
   ]
  },
  {
   "cell_type": "code",
   "execution_count": 4,
   "metadata": {},
   "outputs": [
    {
     "name": "stdout",
     "output_type": "stream",
     "text": [
      "Матрица A:\n",
      "[[-1 -6]\n",
      " [ 2  6]]\n",
      "Собственные значения:\n",
      "[2. 3.]\n",
      "Собственные векторы:\n",
      "[[-0.89442719  0.83205029]\n",
      " [ 0.4472136  -0.5547002 ]]\n"
     ]
    }
   ],
   "source": [
    "w, v = np.linalg.eig(A)\n",
    "\n",
    "print(f'Матрица A:\\n{A}')\n",
    "print(f'Собственные значения:\\n{w}')\n",
    "print(f'Собственные векторы:\\n{v}')"
   ]
  },
  {
   "cell_type": "markdown",
   "metadata": {},
   "source": [
    "### 2. Дан оператор поворота на 180 градусов, задаваемый матрицей. Показать, что любой вектор является для него собственным."
   ]
  },
  {
   "cell_type": "code",
   "execution_count": 5,
   "metadata": {},
   "outputs": [],
   "source": [
    "A = np.array([\n",
    "    [-1,  0],\n",
    "    [ 0, -1]\n",
    "])"
   ]
  },
  {
   "cell_type": "code",
   "execution_count": null,
   "metadata": {},
   "outputs": [],
   "source": [
    "[[-1,  0],  (x1)  = l (x1)\n",
    " [ 0, -1]]  (x2)      (x2)\n",
    "\n",
    "-x1 = x1\n",
    "-x2 = x2"
   ]
  },
  {
   "cell_type": "markdown",
   "metadata": {},
   "source": [
    "### 3. Пусть линейный оператор задан матрицей. Установить, является ли вектор  x=(1,1)  собственным вектором этого линейного оператора."
   ]
  },
  {
   "cell_type": "code",
   "execution_count": 7,
   "metadata": {},
   "outputs": [],
   "source": [
    "A = np.array([\n",
    "    [  1, 1],\n",
    "    [ -1, 3]\n",
    "])"
   ]
  },
  {
   "cell_type": "code",
   "execution_count": null,
   "metadata": {},
   "outputs": [],
   "source": [
    "[[ 1, 1],  (1)  = l (1)\n",
    " [-1, 3]]  (1)      (1)\n",
    "\n",
    "1 + 1 = l\n",
    "-1 + 3 = l\n",
    "\n",
    "l = 2\n",
    "l = 2\n",
    "\n",
    "вектор x=(1,1) является собственным вектором этого линейного оператора"
   ]
  },
  {
   "cell_type": "markdown",
   "metadata": {},
   "source": [
    "### 4. Пусть линейный оператор задан матрицей. Установить, является ли вектор  x=(3,−3,−4)  собственным вектором этого линейного оператора."
   ]
  },
  {
   "cell_type": "code",
   "execution_count": 8,
   "metadata": {},
   "outputs": [],
   "source": [
    "A = np.array([\n",
    "    [ 0, 3, 0],\n",
    "    [ 3, 0, 0],\n",
    "    [ 0, 0, 3]\n",
    "])"
   ]
  },
  {
   "cell_type": "code",
   "execution_count": null,
   "metadata": {},
   "outputs": [],
   "source": [
    "[[ 0, 3, 0],  ( 3)  = l ( 3)\n",
    " [ 3, 0, 0],  (-3)      (-3)\n",
    " [ 0, 0, 3]]  (-4)      (-4)\n",
    "\n",
    "-9 =  3l\n",
    " 9 = -3l\n",
    "-12 = -4l\n",
    "\n",
    "l = -3\n",
    "l = -3\n",
    "l =  3\n",
    "\n",
    "вектор x=(3,−3,−4) не является собственным вектором этого линейного оператора"
   ]
  }
 ],
 "metadata": {
  "kernelspec": {
   "display_name": "Python 3",
   "language": "python",
   "name": "python3"
  },
  "language_info": {
   "codemirror_mode": {
    "name": "ipython",
    "version": 3
   },
   "file_extension": ".py",
   "mimetype": "text/x-python",
   "name": "python",
   "nbconvert_exporter": "python",
   "pygments_lexer": "ipython3",
   "version": "3.7.3"
  }
 },
 "nbformat": 4,
 "nbformat_minor": 2
}
