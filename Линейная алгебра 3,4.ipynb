{
 "cells": [
  {
   "cell_type": "markdown",
   "metadata": {},
   "source": [
    "### 1. Установить, какие произведения матриц  AB  и  BA  определены, и найти размерности полученных матриц:\n",
    "\n",
    "а)  A  — матрица  4×2 ,  B  — матрица  4×2 ;\n",
    "\n",
    "б)  A  — матрица  2×5 ,  B  — матрица  5×3 ;\n",
    "\n",
    "в)  A  — матрица  8×3 ,  B  — матрица  3×8 ;\n",
    "\n",
    "г)  A  — квадратная матрица  4×4 ,  B  — квадратная матрица  4×4"
   ]
  },
  {
   "cell_type": "code",
   "execution_count": null,
   "metadata": {},
   "outputs": [],
   "source": [
    "а) невозможно выполнить\n",
    "б) 2х3\n",
    "в) 8x8\n",
    "г) 4х4"
   ]
  },
  {
   "cell_type": "code",
   "execution_count": 1,
   "metadata": {},
   "outputs": [
    {
     "ename": "ValueError",
     "evalue": "shapes (4,2) and (4,2) not aligned: 2 (dim 1) != 4 (dim 0)",
     "output_type": "error",
     "traceback": [
      "\u001b[1;31m---------------------------------------------------------------------------\u001b[0m",
      "\u001b[1;31mValueError\u001b[0m                                Traceback (most recent call last)",
      "\u001b[1;32m<ipython-input-1-ea7232983b29>\u001b[0m in \u001b[0;36m<module>\u001b[1;34m\u001b[0m\n\u001b[0;32m      3\u001b[0m \u001b[0ma\u001b[0m \u001b[1;33m=\u001b[0m \u001b[0mnp\u001b[0m\u001b[1;33m.\u001b[0m\u001b[0marray\u001b[0m\u001b[1;33m(\u001b[0m\u001b[1;33m[\u001b[0m\u001b[1;33m[\u001b[0m\u001b[1;36m1\u001b[0m\u001b[1;33m,\u001b[0m \u001b[1;36m2\u001b[0m\u001b[1;33m]\u001b[0m\u001b[1;33m,\u001b[0m \u001b[1;33m[\u001b[0m\u001b[1;36m3\u001b[0m\u001b[1;33m,\u001b[0m \u001b[1;36m4\u001b[0m\u001b[1;33m]\u001b[0m\u001b[1;33m,\u001b[0m \u001b[1;33m[\u001b[0m\u001b[1;36m5\u001b[0m\u001b[1;33m,\u001b[0m \u001b[1;36m6\u001b[0m\u001b[1;33m]\u001b[0m\u001b[1;33m,\u001b[0m \u001b[1;33m[\u001b[0m\u001b[1;36m7\u001b[0m\u001b[1;33m,\u001b[0m \u001b[1;36m8\u001b[0m\u001b[1;33m]\u001b[0m\u001b[1;33m]\u001b[0m\u001b[1;33m)\u001b[0m\u001b[1;33m\u001b[0m\u001b[1;33m\u001b[0m\u001b[0m\n\u001b[0;32m      4\u001b[0m \u001b[0mb\u001b[0m \u001b[1;33m=\u001b[0m \u001b[0mnp\u001b[0m\u001b[1;33m.\u001b[0m\u001b[0marray\u001b[0m\u001b[1;33m(\u001b[0m\u001b[1;33m[\u001b[0m\u001b[1;33m[\u001b[0m\u001b[1;36m1\u001b[0m\u001b[1;33m,\u001b[0m \u001b[1;36m2\u001b[0m\u001b[1;33m]\u001b[0m\u001b[1;33m,\u001b[0m \u001b[1;33m[\u001b[0m\u001b[1;36m3\u001b[0m\u001b[1;33m,\u001b[0m \u001b[1;36m4\u001b[0m\u001b[1;33m]\u001b[0m\u001b[1;33m,\u001b[0m \u001b[1;33m[\u001b[0m\u001b[1;36m5\u001b[0m\u001b[1;33m,\u001b[0m \u001b[1;36m6\u001b[0m\u001b[1;33m]\u001b[0m\u001b[1;33m,\u001b[0m \u001b[1;33m[\u001b[0m\u001b[1;36m7\u001b[0m\u001b[1;33m,\u001b[0m \u001b[1;36m8\u001b[0m\u001b[1;33m]\u001b[0m\u001b[1;33m]\u001b[0m\u001b[1;33m)\u001b[0m\u001b[1;33m\u001b[0m\u001b[1;33m\u001b[0m\u001b[0m\n\u001b[1;32m----> 5\u001b[1;33m \u001b[0mprint\u001b[0m\u001b[1;33m(\u001b[0m\u001b[0mnp\u001b[0m\u001b[1;33m.\u001b[0m\u001b[0mdot\u001b[0m\u001b[1;33m(\u001b[0m\u001b[0ma\u001b[0m\u001b[1;33m,\u001b[0m \u001b[0mb\u001b[0m\u001b[1;33m)\u001b[0m\u001b[1;33m,\u001b[0m \u001b[0mnp\u001b[0m\u001b[1;33m.\u001b[0m\u001b[0mdot\u001b[0m\u001b[1;33m(\u001b[0m\u001b[0ma\u001b[0m\u001b[1;33m,\u001b[0m \u001b[0mb\u001b[0m\u001b[1;33m)\u001b[0m\u001b[1;33m.\u001b[0m\u001b[0mshape\u001b[0m\u001b[1;33m)\u001b[0m\u001b[1;33m\u001b[0m\u001b[1;33m\u001b[0m\u001b[0m\n\u001b[0m",
      "\u001b[1;31mValueError\u001b[0m: shapes (4,2) and (4,2) not aligned: 2 (dim 1) != 4 (dim 0)"
     ]
    }
   ],
   "source": [
    "import numpy as np\n",
    "#a\n",
    "a = np.array([[1, 2], [3, 4], [5, 6], [7, 8]])\n",
    "b = np.array([[1, 2], [3, 4], [5, 6], [7, 8]])\n",
    "print(np.dot(a, b), np.dot(a, b).shape)"
   ]
  },
  {
   "cell_type": "code",
   "execution_count": 2,
   "metadata": {},
   "outputs": [
    {
     "name": "stdout",
     "output_type": "stream",
     "text": [
      "[[ 85 100  85]\n",
      " [131 156 135]] (2, 3)\n"
     ]
    }
   ],
   "source": [
    "#б\n",
    "a = np.array([[1, 2, 3, 4, 5], [3, 4, 5, 6, 7]])\n",
    "b = np.array([[1, 2, 3], [3, 4, 4], [5, 6, 5], [7, 8, 6], [7, 8, 7]])\n",
    "print(np.dot(a, b), np.dot(a, b).shape)"
   ]
  },
  {
   "cell_type": "code",
   "execution_count": 3,
   "metadata": {},
   "outputs": [
    {
     "name": "stdout",
     "output_type": "stream",
     "text": [
      "[[ 6 12 18 12 18 12 18  6]\n",
      " [12 24 36 24 36 24 36 12]\n",
      " [ 6 12 18 12 18 12 18  6]\n",
      " [12 24 36 24 36 24 36 12]\n",
      " [ 6 12 18 12 18 12 18  6]\n",
      " [ 6 12 18 12 18 12 18  6]\n",
      " [12 24 36 24 36 24 36 12]\n",
      " [ 6 12 18 12 18 12 18  6]] (8, 8)\n"
     ]
    }
   ],
   "source": [
    "#в\n",
    "a = np.array([[1, 2, 3], [3, 4, 5], [1, 2, 3], [3, 4, 5], [1, 2, 3], [1, 2, 3], [3, 4, 5], [1, 2, 3]])\n",
    "b = np.array([[1, 2, 3, 2, 3, 2, 3, 1], [1, 2, 3, 2, 3, 2, 3, 1], [1, 2, 3, 2, 3, 2, 3, 1]])\n",
    "print(np.dot(a, b), np.dot(a, b).shape)"
   ]
  },
  {
   "cell_type": "code",
   "execution_count": 4,
   "metadata": {},
   "outputs": [
    {
     "name": "stdout",
     "output_type": "stream",
     "text": [
      "[[22 32 42 52]\n",
      " [38 56 74 92]\n",
      " [22 32 42 52]\n",
      " [38 56 74 92]] (4, 4)\n"
     ]
    }
   ],
   "source": [
    "#г\n",
    "a = np.array([[1, 2, 3, 4], [3, 4, 5, 6], [1, 2, 3, 4], [3, 4, 5, 6]])\n",
    "b = np.array([[1, 2, 3, 4], [3, 4, 5, 6], [1, 2, 3, 4], [3, 4, 5, 6]])\n",
    "print(np.dot(a, b), np.dot(a, b).shape)"
   ]
  },
  {
   "cell_type": "markdown",
   "metadata": {},
   "source": [
    "### 2. Найти сумму и произведение матриц  A=([[1, -2], [3, 0]])  и  B=([[4, -1], [0, 5]])"
   ]
  },
  {
   "cell_type": "code",
   "execution_count": 5,
   "metadata": {},
   "outputs": [],
   "source": [
    "A = np.array([[1, -2],\n",
    "              [3, 0]])\n",
    "\n",
    "B = np.array([[4, -1],\n",
    "              [0, 5]])"
   ]
  },
  {
   "cell_type": "code",
   "execution_count": null,
   "metadata": {},
   "outputs": [],
   "source": [
    "A + B = ([[5, -3],\n",
    "          [3, 5]])\n",
    "\n",
    "A * B = ([[4, -11],\n",
    "          [12, -3]])"
   ]
  },
  {
   "cell_type": "code",
   "execution_count": 6,
   "metadata": {},
   "outputs": [
    {
     "name": "stdout",
     "output_type": "stream",
     "text": [
      "[[ 5 -3]\n",
      " [ 3  5]]\n",
      "[[  4 -11]\n",
      " [ 12  -3]]\n"
     ]
    }
   ],
   "source": [
    "print(A + B)\n",
    "print(np.dot(A, B))"
   ]
  },
  {
   "cell_type": "markdown",
   "metadata": {},
   "source": [
    "### Вычислить линейную комбинацию  3A−2B+4C  для матриц A=([[1, 7], [3, -6]]),  B=([[0, 5], [2, -1]]),  C=([[2, -4], [1, 1]])"
   ]
  },
  {
   "cell_type": "code",
   "execution_count": 7,
   "metadata": {},
   "outputs": [],
   "source": [
    "A = np.array([[1, 7],\n",
    "              [3, -6]])\n",
    "\n",
    "B = np.array([[0, 5],\n",
    "              [2, -1]])\n",
    "\n",
    "C = np.array([[2, -4],\n",
    "              [1, 1]])"
   ]
  },
  {
   "cell_type": "code",
   "execution_count": null,
   "metadata": {},
   "outputs": [],
   "source": [
    "3A - 2B + 4C = [\n",
    "                [11,  -5],\n",
    "                [ 9, -12],\n",
    "]"
   ]
  },
  {
   "cell_type": "code",
   "execution_count": 8,
   "metadata": {},
   "outputs": [
    {
     "name": "stdout",
     "output_type": "stream",
     "text": [
      "[[ 11  -5]\n",
      " [  9 -12]]\n"
     ]
    }
   ],
   "source": [
    "print(3*A - 2*B + 4*C)"
   ]
  },
  {
   "cell_type": "markdown",
   "metadata": {},
   "source": [
    "### Дана матрица  A=([[4, 1], [5, -2], [2, 3]]) Вычислить  A A.T  и  A.T A"
   ]
  },
  {
   "cell_type": "code",
   "execution_count": 9,
   "metadata": {},
   "outputs": [],
   "source": [
    "A = np.array([\n",
    "              [4,  1],\n",
    "              [5, -2],\n",
    "              [2,  3]\n",
    "])"
   ]
  },
  {
   "cell_type": "code",
   "execution_count": null,
   "metadata": {},
   "outputs": [],
   "source": [
    "A * A.T = [[4,  1], * [[4,  5, 2]  =  [[17, 18, 11]\n",
    "           [5, -2],    [1, -2, 3]]     [18, 29,  4]\n",
    "           [2,  3]]                    [11,  4, 13]]"
   ]
  },
  {
   "cell_type": "code",
   "execution_count": null,
   "metadata": {},
   "outputs": [],
   "source": [
    "A.T * A = [[4,  5, 2]  * [[4,  1],  = [[45,  0]\n",
    "           [1, -2, 3]]    [5, -2],     [ 0, 14]]\n",
    "                          [2,  3]] "
   ]
  },
  {
   "cell_type": "code",
   "execution_count": 10,
   "metadata": {},
   "outputs": [
    {
     "name": "stdout",
     "output_type": "stream",
     "text": [
      "[[17 18 11]\n",
      " [18 29  4]\n",
      " [11  4 13]]\n"
     ]
    }
   ],
   "source": [
    "print(np.dot(A, A.T))"
   ]
  },
  {
   "cell_type": "code",
   "execution_count": 11,
   "metadata": {},
   "outputs": [
    {
     "name": "stdout",
     "output_type": "stream",
     "text": [
      "[[45  0]\n",
      " [ 0 14]]\n"
     ]
    }
   ],
   "source": [
    "print(np.dot(A.T, A))"
   ]
  },
  {
   "cell_type": "markdown",
   "metadata": {},
   "source": [
    "### 5*. Написать на Python функцию для перемножения двух произвольных матриц, не используя NumPy."
   ]
  },
  {
   "cell_type": "code",
   "execution_count": 12,
   "metadata": {},
   "outputs": [],
   "source": [
    "def check_matrix(matrix_a, matrix_b):\n",
    "    if len(matrix_a[0]) == len(matrix_b):\n",
    "        return True\n",
    "    else:\n",
    "        print('Неподходящий размер матриц')\n",
    "        return False"
   ]
  },
  {
   "cell_type": "code",
   "execution_count": 13,
   "metadata": {},
   "outputs": [],
   "source": [
    "def multi_matrix(matrix_a, matrix_b):\n",
    "    if check_matrix(A,B):\n",
    "        new_matrix = []\n",
    "        for i in range(len(A)):\n",
    "            matrix_list = []\n",
    "            for k in range(len(B[i])):\n",
    "                subtotal = 0\n",
    "                for j in range(len(A[i])):\n",
    "                    subtotal = subtotal + A[i][j]*B[j][k]\n",
    "                matrix_list.append(subtotal)\n",
    "            new_matrix.append(matrix_list)\n",
    "        return new_matrix"
   ]
  },
  {
   "cell_type": "code",
   "execution_count": 14,
   "metadata": {},
   "outputs": [
    {
     "name": "stdout",
     "output_type": "stream",
     "text": [
      "Неподходящий размер матриц\n"
     ]
    }
   ],
   "source": [
    "A = [[5, 2, 3, 4],\n",
    "     [2, 4, 6, 1]\n",
    "    ]\n",
    "\n",
    "B = [[5, 2],\n",
    "     [2, 4],\n",
    "     [1, 2]\n",
    "    ]\n",
    "multi_matrix(A, B)"
   ]
  },
  {
   "cell_type": "code",
   "execution_count": 15,
   "metadata": {},
   "outputs": [
    {
     "data": {
      "text/plain": [
       "[[32, 24], [24, 32]]"
      ]
     },
     "execution_count": 15,
     "metadata": {},
     "output_type": "execute_result"
    }
   ],
   "source": [
    "A = [[5, 2, 3],\n",
    "     [2, 4, 6]\n",
    "    ]\n",
    "\n",
    "B = [[5, 2],\n",
    "     [2, 4],\n",
    "     [1, 2]\n",
    "    ]\n",
    "multi_matrix(A, B)"
   ]
  },
  {
   "cell_type": "markdown",
   "metadata": {},
   "source": [
    "### 1. Вычислить определитель"
   ]
  },
  {
   "cell_type": "code",
   "execution_count": null,
   "metadata": {},
   "outputs": [],
   "source": [
    "A = [\n",
    "    [sin x, -cos x]\n",
    "    [cos x,  sin x]\n",
    "]"
   ]
  },
  {
   "cell_type": "code",
   "execution_count": null,
   "metadata": {},
   "outputs": [],
   "source": [
    "det (A) = sin x * sin x - cos x * -cos x = sin^2 x + cos^2 x = 1 "
   ]
  },
  {
   "cell_type": "code",
   "execution_count": 16,
   "metadata": {},
   "outputs": [],
   "source": [
    "B = np.array([\n",
    "    [4, 2, 3],\n",
    "    [0, 5, 1],\n",
    "    [0, 0, 9]\n",
    "])"
   ]
  },
  {
   "cell_type": "code",
   "execution_count": null,
   "metadata": {},
   "outputs": [],
   "source": [
    "det(B) = 4 * 5 * 9 = 180"
   ]
  },
  {
   "cell_type": "code",
   "execution_count": 17,
   "metadata": {},
   "outputs": [],
   "source": [
    "C = np.array([\n",
    "    [1, 2, 3],\n",
    "    [4, 5, 6],\n",
    "    [7, 8, 9]\n",
    "])"
   ]
  },
  {
   "cell_type": "code",
   "execution_count": null,
   "metadata": {},
   "outputs": [],
   "source": [
    "det (C) = 1 * (5*9 - 6*8) - 2 * (4*9 - 6*7) + 3 * (4*8 - 7*5) = -3 + 12 - 9 = 0"
   ]
  },
  {
   "cell_type": "code",
   "execution_count": 18,
   "metadata": {},
   "outputs": [
    {
     "name": "stdout",
     "output_type": "stream",
     "text": [
      "определитель A = 1\n",
      "определитель B = 180\n",
      "определитель C = 0\n"
     ]
    }
   ],
   "source": [
    "A = np.array([\n",
    "    [np.sin(1), -np.cos(1)],\n",
    "    [np.cos(1),  np.sin(1)]\n",
    "])\n",
    "print(f'определитель A = {np.linalg.det(A):.0f}')\n",
    "print(f'определитель B = {np.linalg.det(B):.0f}')\n",
    "print(f'определитель C = {np.linalg.det(C):.0f}')"
   ]
  },
  {
   "cell_type": "markdown",
   "metadata": {},
   "source": [
    "### 2. Определитель матрицы  A  равен  4 . Найти:\n",
    "\n",
    "а)  det(A**2) \n",
    "\n",
    "б)  det(A.T) \n",
    "\n",
    "в)  det(2*A) "
   ]
  },
  {
   "cell_type": "code",
   "execution_count": null,
   "metadata": {},
   "outputs": [],
   "source": [
    "для треугольной матрицы:\n",
    "a) det(A**2) = 4**2 = 16\n",
    "б) det(A.T) = 4\n",
    "в) det(2A) = 4*(кол-во строк/столбцов в матрице) = 4*2*2*2 = 32 (для 3х3), 4*2*2*2*2 = 64 для 4х4 и тд"
   ]
  },
  {
   "cell_type": "code",
   "execution_count": 19,
   "metadata": {},
   "outputs": [
    {
     "name": "stdout",
     "output_type": "stream",
     "text": [
      "определитель A**2 = 16\n",
      "определитель A.T = 4\n",
      "определитель A*2 = 64 \n",
      "\n",
      "определитель B**2 = 16\n",
      "определитель B.T = 4\n",
      "определитель B*2 = 32\n"
     ]
    }
   ],
   "source": [
    "A = np.array([\n",
    "    [1, 2, 3, 1],\n",
    "    [0, 2, 6, 1],\n",
    "    [0, 0, 2, 1],\n",
    "    [0, 0, 0, 1]\n",
    "])\n",
    "\n",
    "print(f'определитель A**2 = {np.linalg.det(A**2):.0f}')\n",
    "print(f'определитель A.T = {np.linalg.det(A.T):.0f}')\n",
    "print(f'определитель A*2 = {np.linalg.det(A*2):.0f} \\n')\n",
    "\n",
    "B = np.array([\n",
    "    [1, 2, 3],\n",
    "    [0, 2, 6],\n",
    "    [0, 0, 2],\n",
    "])\n",
    "\n",
    "print(f'определитель B**2 = {np.linalg.det(B**2):.0f}')\n",
    "print(f'определитель B.T = {np.linalg.det(B.T):.0f}')\n",
    "print(f'определитель B*2 = {np.linalg.det(B*2):.0f}')"
   ]
  },
  {
   "cell_type": "markdown",
   "metadata": {},
   "source": [
    "### 3. Доказать, что матрица вырожденная"
   ]
  },
  {
   "cell_type": "code",
   "execution_count": 20,
   "metadata": {},
   "outputs": [],
   "source": [
    "A = np.array([\n",
    "    [-2,   7, -3],\n",
    "    [ 4, -14,  6],\n",
    "    [-3,   7, 13]\n",
    "])"
   ]
  },
  {
   "cell_type": "code",
   "execution_count": null,
   "metadata": {},
   "outputs": [],
   "source": [
    "прибавим 2 строку к 3:\n",
    "    \n",
    "   [[-2,   7, -3],\n",
    "    [ 4, -14,  6],\n",
    "    [ 1,  -7, 19]]\n",
    "\n",
    "прибавим удвоенную 1 строку ко 2:\n",
    "    \n",
    "   [[-2,   7, -3],\n",
    "    [ 0,   0,  0],\n",
    "    [ 1,  -7, 19]]\n",
    "\n",
    "прибавим 1 строку к 3:\n",
    "    \n",
    "   [[-2,   7, -3],\n",
    "    [ 0,   0,  0],\n",
    "    [-1,   0, 16]]\n",
    "\n",
    "вычтем 3 строку из 1:\n",
    "    \n",
    "   [[-1,   7,-19],\n",
    "    [ 0,   0,  0],\n",
    "    [-1,   0, 16]]\n",
    "\n",
    "вычтем 1 строку из 3:\n",
    "    \n",
    "   [[-1,   7,-19],\n",
    "    [ 0,   0,  0],\n",
    "    [ 0,   0, 16]]\n",
    "\n",
    "поменяем местами 2 и 3 строку:\n",
    "    \n",
    "   [[-1,   7,-19],\n",
    "  - [ 0,   0, 16],\n",
    "    [ 0,   0,  0]]\n",
    "\n",
    "определитель равен -(-1*0*0) = 0, матрица вырожденная "
   ]
  },
  {
   "cell_type": "code",
   "execution_count": 21,
   "metadata": {},
   "outputs": [
    {
     "name": "stdout",
     "output_type": "stream",
     "text": [
      "определитель A = 0\n"
     ]
    }
   ],
   "source": [
    "print(f'определитель A = {np.linalg.det(A):.0f}')"
   ]
  },
  {
   "cell_type": "markdown",
   "metadata": {},
   "source": [
    "### 4. Найти ранг матрицы:"
   ]
  },
  {
   "cell_type": "code",
   "execution_count": 22,
   "metadata": {},
   "outputs": [],
   "source": [
    "A = np.array([\n",
    "    [1, 2, 3],\n",
    "    [1, 1, 1],\n",
    "    [2, 3, 4]\n",
    "])\n",
    "\n",
    "B = np.array([\n",
    "    [0, 0, 2, 1],\n",
    "    [0, 0, 2, 2],\n",
    "    [0, 0, 4, 3],\n",
    "    [2, 3, 5, 6]\n",
    "])"
   ]
  },
  {
   "cell_type": "code",
   "execution_count": null,
   "metadata": {},
   "outputs": [],
   "source": [
    "A\n",
    "   [[1, 2, 3],\n",
    "    [1, 1, 1],\n",
    "    [2, 3, 4]]\n",
    "\n",
    "вычтем из 3 строки 1:\n",
    "   \n",
    "   [[1, 2, 3],\n",
    "    [1, 1, 1],\n",
    "    [1, 1, 1]]\n",
    "    \n",
    "вычтем из 1 и 3 строк 2 строку:\n",
    "    \n",
    "   [[0, 1, 2],\n",
    "    [1, 1, 1],\n",
    "    [0, 0, 0]]\n",
    "\n",
    "переставим 1 и 2 строку:\n",
    "    \n",
    "   [[1, 1, 1],\n",
    "  - [0, 1, 2],\n",
    "    [0, 0, 0]]\n",
    "\n",
    "ранг матрицы А = 2"
   ]
  },
  {
   "cell_type": "code",
   "execution_count": 23,
   "metadata": {},
   "outputs": [
    {
     "name": "stdout",
     "output_type": "stream",
     "text": [
      "Ранг матрицы А = 2\n"
     ]
    }
   ],
   "source": [
    "print(f'Ранг матрицы А = {np.linalg.matrix_rank(A)}')"
   ]
  },
  {
   "cell_type": "code",
   "execution_count": null,
   "metadata": {},
   "outputs": [],
   "source": [
    "B\n",
    "   [[0, 0, 2, 1],\n",
    "    [0, 0, 2, 2],\n",
    "    [0, 0, 4, 3],\n",
    "    [2, 3, 5, 6]]\n",
    "    \n",
    "отбросим 3 строку, т.к она является суммой 1 и 2:\n",
    "\n",
    "   [[0, 0, 2, 1],\n",
    "    [0, 0, 2, 2],\n",
    "    [2, 3, 5, 6]]\n",
    "    \n",
    "вычтем 1 строку из 2 и переставим их:\n",
    "\n",
    "   [[0, 0, 0, 1],\n",
    "  - [0, 0, 2, 1],\n",
    "    [2, 3, 5, 6]]\n",
    "\n",
    "ранг матрицы B = 3"
   ]
  },
  {
   "cell_type": "code",
   "execution_count": 24,
   "metadata": {},
   "outputs": [
    {
     "name": "stdout",
     "output_type": "stream",
     "text": [
      "Ранг матрицы B = 3\n"
     ]
    }
   ],
   "source": [
    "print(f'Ранг матрицы B = {np.linalg.matrix_rank(B)}')"
   ]
  },
  {
   "cell_type": "code",
   "execution_count": null,
   "metadata": {},
   "outputs": [],
   "source": []
  }
 ],
 "metadata": {
  "kernelspec": {
   "display_name": "Python 3",
   "language": "python",
   "name": "python3"
  },
  "language_info": {
   "codemirror_mode": {
    "name": "ipython",
    "version": 3
   },
   "file_extension": ".py",
   "mimetype": "text/x-python",
   "name": "python",
   "nbconvert_exporter": "python",
   "pygments_lexer": "ipython3",
   "version": "3.7.3"
  }
 },
 "nbformat": 4,
 "nbformat_minor": 2
}
